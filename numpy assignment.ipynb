{
 "cells": [
  {
   "cell_type": "code",
   "execution_count": 1,
   "metadata": {},
   "outputs": [
    {
     "name": "stdout",
     "output_type": "stream",
     "text": [
      "Vandermonde Ouptput Matrix is: \n",
      " [[      1       1       1       1       1       1       1]\n",
      " [     64      32      16       8       4       2       1]\n",
      " [    729     243      81      27       9       3       1]\n",
      " [   4096    1024     256      64      16       4       1]\n",
      " [  46656    7776    1296     216      36       6       1]\n",
      " [ 262144   32768    4096     512      64       8       1]\n",
      " [1000000  100000   10000    1000     100      10       1]]\n",
      "\n",
      "Vandermonde Ouptput Matrix is: \n",
      " [[      1       1       1       1       1       1       1]\n",
      " [      1       2       4       8      16      32      64]\n",
      " [      1       3       9      27      81     243     729]\n",
      " [      1       4      16      64     256    1024    4096]\n",
      " [      1       6      36     216    1296    7776   46656]\n",
      " [      1       8      64     512    4096   32768  262144]\n",
      " [      1      10     100    1000   10000  100000 1000000]]\n"
     ]
    },
    {
     "data": {
      "text/plain": [
       "-58525286399.99711"
      ]
     },
     "execution_count": 1,
     "metadata": {},
     "output_type": "execute_result"
    }
   ],
   "source": [
    "\"\"\"Write a function so that the columns of the output matrix are powers of the input\n",
    "vector.\n",
    "The order of the powers is determined by the increasing boolean argument. Specifically, when\n",
    "increasing is False, the i-th output column is the input vector raised element-wise to the power\n",
    "of N - i - 1.\n",
    "HINT: Such a matrix with a geometric progression in each row is named for Alexandre-\n",
    "Theophile Vandermonde.\n",
    "\"\"\"\n",
    "import numpy as np\n",
    "def gen_vandermonde_mat(onedarray,no_col,increasing=False):\n",
    "    if not increasing:\n",
    "        vander_mat = np.array([x**i for x in onedarray for i in range(no_col)]).reshape(onedarray.size,no_col)\n",
    "    elif increasing:\n",
    "        vander_mat = np.array([x**(no_col-1-i) for x in onedarray for i in range(no_col)]).reshape(onedarray.size,no_col)\n",
    "\n",
    "    return vander_mat\n",
    "\n",
    "arr = np.array([1,2,3,4,6,8,10])\n",
    "no_col = 7\n",
    "\n",
    "matrix = gen_vandermonde_mat(arr,no_col,True)\n",
    "\n",
    "print(\"Vandermonde Ouptput Matrix is: \\n\",gen_vandermonde_mat(arr,no_col,True))\n",
    "print(\"\\nVandermonde Ouptput Matrix is: \\n\",gen_vandermonde_mat(arr,no_col,False))\n",
    "matrix\n",
    "np.linalg.det(matrix)"
   ]
  },
  {
   "cell_type": "code",
   "execution_count": 2,
   "metadata": {},
   "outputs": [
    {
     "name": "stdout",
     "output_type": "stream",
     "text": [
      "[25. 35. 45. 55. 65. 75. 85.]\n",
      "--------------------------------------------------\n",
      "[  5.           4.66666667   5.66666667   6.66666667   9.66666667\n",
      "  28.66666667  49.33333333  72.66666667  84.          93.33333333\n",
      " 116.33333333]\n"
     ]
    }
   ],
   "source": [
    "\"\"\"Given a sequence of n values x1, x2, ..., xn and a window size k>0, the k-th moving average of\n",
    "the given sequence is defined as follows:\n",
    "The moving average sequence has n-k+1 elements as shown below.\n",
    "The moving averages with k=4 of a ten-value sequence (n=10) is shown below\n",
    "i 1 2 3 4 5 6 7 8 9 10\n",
    "===== == == == == == == == == == ==\n",
    "Input 10 20 30 40 50 60 70 80 90 100\n",
    "y1 25 = (10+20+30+40)/4\n",
    "y2 35 = (20+30+40+50)/4\n",
    "y3 45 = (30+40+50+60)/4\n",
    "y4 55 = (40+50+60+70)/4\n",
    "y5 65 = (50+60+70+80)/4\n",
    "y6 75 = (60+70+80+90)/4\n",
    "y7 85 = (70+80+90+100)/4\n",
    "Thus, the moving average sequence has n-k+1=10-4+1=7 values.\"\"\"\n",
    "import numpy as np\n",
    "def moving_average(a, k=1) :\n",
    "    mov_avg = np.cumsum(a, dtype=float)\n",
    "    mov_avg[k:] = mov_avg[k:] - mov_avg[:-k]\n",
    "    return mov_avg[k - 1:] / k\n",
    "\n",
    "a = [10,20,30,40,50,60,70,80,90,100]\n",
    "print(moving_average(a, k=4))\n",
    "\n",
    "print(\"-\"*50)\n",
    "\n",
    "b = [3, 5, 7, 2, 8, 10, 11, 65, 72, 81, 99, 100, 150]\n",
    "print(moving_average(b, k=3))\n"
   ]
  }
 ],
 "metadata": {
  "kernelspec": {
   "display_name": "Python 3",
   "language": "python",
   "name": "python3"
  },
  "language_info": {
   "codemirror_mode": {
    "name": "ipython",
    "version": 3
   },
   "file_extension": ".py",
   "mimetype": "text/x-python",
   "name": "python",
   "nbconvert_exporter": "python",
   "pygments_lexer": "ipython3",
   "version": "3.8.3"
  }
 },
 "nbformat": 4,
 "nbformat_minor": 4
}
